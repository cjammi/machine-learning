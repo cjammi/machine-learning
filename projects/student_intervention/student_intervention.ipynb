{
 "cells": [
  {
   "cell_type": "markdown",
   "metadata": {},
   "source": [
    "# Machine Learning Engineer Nanodegree\n",
    "## Supervised Learning\n",
    "## Project: Building a Student Intervention System"
   ]
  },
  {
   "cell_type": "markdown",
   "metadata": {},
   "source": [
    "Welcome to the second project of the Machine Learning Engineer Nanodegree! In this notebook, some template code has already been provided for you, and it will be your job to implement the additional functionality necessary to successfully complete this project. Sections that begin with **'Implementation'** in the header indicate that the following block of code will require additional functionality which you must provide. Instructions will be provided for each section and the specifics of the implementation are marked in the code block with a `'TODO'` statement. Please be sure to read the instructions carefully!\n",
    "\n",
    "In addition to implementing code, there will be questions that you must answer which relate to the project and your implementation. Each section where you will answer a question is preceded by a **'Question X'** header. Carefully read each question and provide thorough answers in the following text boxes that begin with **'Answer:'**. Your project submission will be evaluated based on your answers to each of the questions and the implementation you provide.  \n",
    "\n",
    ">**Note:** Code and Markdown cells can be executed using the **Shift + Enter** keyboard shortcut. In addition, Markdown cells can be edited by typically double-clicking the cell to enter edit mode."
   ]
  },
  {
   "cell_type": "markdown",
   "metadata": {},
   "source": [
    "### Question 1 - Classification vs. Regression\n",
    "*Your goal for this project is to identify students who might need early intervention before they fail to graduate. Which type of supervised learning problem is this, classification or regression? Why?*"
   ]
  },
  {
   "cell_type": "markdown",
   "metadata": {},
   "source": [
    "**Answer: **\n",
    "Given a student's data, we need to predict an outcome from a finite discreet set of {`success`, `failure`} which makes this a classification problem. On the other hand, if we were asked to predict how many marks a given student might score in the final exam, I would treat that as a regression problem because I am predicting a continuous variable. "
   ]
  },
  {
   "cell_type": "markdown",
   "metadata": {},
   "source": [
    "## Exploring the Data\n",
    "Run the code cell below to load necessary Python libraries and load the student data. Note that the last column from this dataset, `'passed'`, will be our target label (whether the student graduated or didn't graduate). All other columns are features about each student."
   ]
  },
  {
   "cell_type": "code",
   "execution_count": 157,
   "metadata": {
    "collapsed": false
   },
   "outputs": [
    {
     "name": "stdout",
     "output_type": "stream",
     "text": [
      "Student data read successfully!\n"
     ]
    }
   ],
   "source": [
    "# Import libraries\n",
    "import numpy as np\n",
    "import pandas as pd\n",
    "from time import time\n",
    "from sklearn.metrics import f1_score\n",
    "\n",
    "# Read student data\n",
    "student_data = pd.read_csv(\"student-data.csv\")\n",
    "print \"Student data read successfully!\""
   ]
  },
  {
   "cell_type": "markdown",
   "metadata": {},
   "source": [
    "### Implementation: Data Exploration\n",
    "Let's begin by investigating the dataset to determine how many students we have information on, and learn about the graduation rate among these students. In the code cell below, you will need to compute the following:\n",
    "- The total number of students, `n_students`.\n",
    "- The total number of features for each student, `n_features`.\n",
    "- The number of those students who passed, `n_passed`.\n",
    "- The number of those students who failed, `n_failed`.\n",
    "- The graduation rate of the class, `grad_rate`, in percent (%).\n"
   ]
  },
  {
   "cell_type": "code",
   "execution_count": 158,
   "metadata": {
    "collapsed": false
   },
   "outputs": [
    {
     "name": "stdout",
     "output_type": "stream",
     "text": [
      "Total number of students: 395\n",
      "Number of features: 31\n",
      "Number of students who passed: 265\n",
      "Number of students who failed: 130\n",
      "Graduation rate of the class: 67.09%\n"
     ]
    }
   ],
   "source": [
    "# TODO: Calculate number of students\n",
    "n_students = student_data.shape[0]\n",
    "\n",
    "# TODO: Calculate number of features\n",
    "n_features = student_data.shape[1]\n",
    "\n",
    "# TODO: Calculate passing students\n",
    "n_passed = len(student_data[student_data.passed=='yes'])\n",
    "\n",
    "# TODO: Calculate failing students\n",
    "n_failed = len(student_data[student_data.passed=='no'])\n",
    "\n",
    "# TODO: Calculate graduation rate\n",
    "grad_rate = (float(n_passed)/n_students)*100\n",
    "\n",
    "# Print the results\n",
    "print \"Total number of students: {}\".format(n_students)\n",
    "print \"Number of features: {}\".format(n_features)\n",
    "print \"Number of students who passed: {}\".format(n_passed)\n",
    "print \"Number of students who failed: {}\".format(n_failed)\n",
    "print \"Graduation rate of the class: {:.2f}%\".format(grad_rate)"
   ]
  },
  {
   "cell_type": "markdown",
   "metadata": {},
   "source": [
    "## Preparing the Data\n",
    "In this section, we will prepare the data for modeling, training and testing.\n",
    "\n",
    "### Identify feature and target columns\n",
    "It is often the case that the data you obtain contains non-numeric features. This can be a problem, as most machine learning algorithms expect numeric data to perform computations with.\n",
    "\n",
    "Run the code cell below to separate the student data into feature and target columns to see if any features are non-numeric."
   ]
  },
  {
   "cell_type": "code",
   "execution_count": 159,
   "metadata": {
    "collapsed": false
   },
   "outputs": [
    {
     "name": "stdout",
     "output_type": "stream",
     "text": [
      "Feature columns:\n",
      "['school', 'sex', 'age', 'address', 'famsize', 'Pstatus', 'Medu', 'Fedu', 'Mjob', 'Fjob', 'reason', 'guardian', 'traveltime', 'studytime', 'failures', 'schoolsup', 'famsup', 'paid', 'activities', 'nursery', 'higher', 'internet', 'romantic', 'famrel', 'freetime', 'goout', 'Dalc', 'Walc', 'health', 'absences']\n",
      "\n",
      "Target column: passed\n",
      "\n",
      "Feature values:\n",
      "  school sex  age address famsize Pstatus  Medu  Fedu     Mjob      Fjob  \\\n",
      "0     GP   F   18       U     GT3       A     4     4  at_home   teacher   \n",
      "1     GP   F   17       U     GT3       T     1     1  at_home     other   \n",
      "2     GP   F   15       U     LE3       T     1     1  at_home     other   \n",
      "3     GP   F   15       U     GT3       T     4     2   health  services   \n",
      "4     GP   F   16       U     GT3       T     3     3    other     other   \n",
      "\n",
      "    ...    higher internet  romantic  famrel  freetime goout Dalc Walc health  \\\n",
      "0   ...       yes       no        no       4         3     4    1    1      3   \n",
      "1   ...       yes      yes        no       5         3     3    1    1      3   \n",
      "2   ...       yes      yes        no       4         3     2    2    3      3   \n",
      "3   ...       yes      yes       yes       3         2     2    1    1      5   \n",
      "4   ...       yes       no        no       4         3     2    1    2      5   \n",
      "\n",
      "  absences  \n",
      "0        6  \n",
      "1        4  \n",
      "2       10  \n",
      "3        2  \n",
      "4        4  \n",
      "\n",
      "[5 rows x 30 columns]\n"
     ]
    }
   ],
   "source": [
    "# Extract feature columns\n",
    "feature_cols = list(student_data.columns[:-1])\n",
    "\n",
    "# Extract target column 'passed'\n",
    "target_col = student_data.columns[-1] \n",
    "\n",
    "# Show the list of columns\n",
    "print \"Feature columns:\\n{}\".format(feature_cols)\n",
    "print \"\\nTarget column: {}\".format(target_col)\n",
    "\n",
    "# Separate the data into feature data and target data (X_all and y_all, respectively)\n",
    "X_all = student_data[feature_cols]\n",
    "y_all = student_data[target_col]\n",
    "\n",
    "# Show the feature information by printing the first five rows\n",
    "print \"\\nFeature values:\"\n",
    "print X_all.head()"
   ]
  },
  {
   "cell_type": "markdown",
   "metadata": {},
   "source": [
    "### Preprocess Feature Columns\n",
    "\n",
    "As you can see, there are several non-numeric columns that need to be converted! Many of them are simply `yes`/`no`, e.g. `internet`. These can be reasonably converted into `1`/`0` (binary) values.\n",
    "\n",
    "Other columns, like `Mjob` and `Fjob`, have more than two values, and are known as _categorical variables_. The recommended way to handle such a column is to create as many columns as possible values (e.g. `Fjob_teacher`, `Fjob_other`, `Fjob_services`, etc.), and assign a `1` to one of them and `0` to all others.\n",
    "\n",
    "These generated columns are sometimes called _dummy variables_, and we will use the [`pandas.get_dummies()`](http://pandas.pydata.org/pandas-docs/stable/generated/pandas.get_dummies.html?highlight=get_dummies#pandas.get_dummies) function to perform this transformation. Run the code cell below to perform the preprocessing routine discussed in this section."
   ]
  },
  {
   "cell_type": "code",
   "execution_count": 160,
   "metadata": {
    "collapsed": false
   },
   "outputs": [
    {
     "name": "stdout",
     "output_type": "stream",
     "text": [
      "Processed feature columns (48 total features):\n",
      "['school_GP', 'school_MS', 'sex_F', 'sex_M', 'age', 'address_R', 'address_U', 'famsize_GT3', 'famsize_LE3', 'Pstatus_A', 'Pstatus_T', 'Medu', 'Fedu', 'Mjob_at_home', 'Mjob_health', 'Mjob_other', 'Mjob_services', 'Mjob_teacher', 'Fjob_at_home', 'Fjob_health', 'Fjob_other', 'Fjob_services', 'Fjob_teacher', 'reason_course', 'reason_home', 'reason_other', 'reason_reputation', 'guardian_father', 'guardian_mother', 'guardian_other', 'traveltime', 'studytime', 'failures', 'schoolsup', 'famsup', 'paid', 'activities', 'nursery', 'higher', 'internet', 'romantic', 'famrel', 'freetime', 'goout', 'Dalc', 'Walc', 'health', 'absences']\n"
     ]
    }
   ],
   "source": [
    "def preprocess_features(X):\n",
    "    ''' Preprocesses the student data and converts non-numeric binary variables into\n",
    "        binary (0/1) variables. Converts categorical variables into dummy variables. '''\n",
    "    \n",
    "    # Initialize new output DataFrame\n",
    "    output = pd.DataFrame(index = X.index)\n",
    "\n",
    "    # Investigate each feature column for the data\n",
    "    for col, col_data in X.iteritems():\n",
    "        \n",
    "        # If data type is non-numeric, replace all yes/no values with 1/0\n",
    "        if col_data.dtype == object:\n",
    "            col_data = col_data.replace(['yes', 'no'], [1, 0])\n",
    "\n",
    "        # If data type is categorical, convert to dummy variables\n",
    "        if col_data.dtype == object:\n",
    "            # Example: 'school' => 'school_GP' and 'school_MS'\n",
    "            col_data = pd.get_dummies(col_data, prefix = col)  \n",
    "        \n",
    "        # Collect the revised columns\n",
    "        output = output.join(col_data)\n",
    "    \n",
    "    return output\n",
    "\n",
    "X_all = preprocess_features(X_all)\n",
    "print \"Processed feature columns ({} total features):\\n{}\".format(len(X_all.columns), list(X_all.columns))"
   ]
  },
  {
   "cell_type": "code",
   "execution_count": 161,
   "metadata": {
    "collapsed": false
   },
   "outputs": [
    {
     "data": {
      "text/plain": [
       "0      0\n",
       "1      0\n",
       "2      3\n",
       "3      0\n",
       "4      0\n",
       "5      0\n",
       "6      0\n",
       "7      0\n",
       "8      0\n",
       "9      0\n",
       "10     0\n",
       "11     0\n",
       "12     0\n",
       "13     0\n",
       "14     0\n",
       "15     0\n",
       "16     0\n",
       "17     0\n",
       "18     3\n",
       "19     0\n",
       "20     0\n",
       "21     0\n",
       "22     0\n",
       "23     0\n",
       "24     0\n",
       "25     2\n",
       "26     0\n",
       "27     0\n",
       "28     0\n",
       "29     0\n",
       "      ..\n",
       "365    0\n",
       "366    0\n",
       "367    1\n",
       "368    0\n",
       "369    0\n",
       "370    2\n",
       "371    0\n",
       "372    0\n",
       "373    0\n",
       "374    0\n",
       "375    0\n",
       "376    2\n",
       "377    0\n",
       "378    0\n",
       "379    0\n",
       "380    0\n",
       "381    0\n",
       "382    0\n",
       "383    1\n",
       "384    1\n",
       "385    0\n",
       "386    0\n",
       "387    1\n",
       "388    0\n",
       "389    1\n",
       "390    2\n",
       "391    0\n",
       "392    3\n",
       "393    0\n",
       "394    0\n",
       "Name: failures, dtype: int64"
      ]
     },
     "execution_count": 161,
     "metadata": {},
     "output_type": "execute_result"
    }
   ],
   "source": [
    "X_all['failures']"
   ]
  },
  {
   "cell_type": "markdown",
   "metadata": {},
   "source": [
    "### Implementation: Training and Testing Data Split\n",
    "So far, we have converted all _categorical_ features into numeric values. For the next step, we split the data (both features and corresponding labels) into training and test sets. In the following code cell below, you will need to implement the following:\n",
    "- Randomly shuffle and split the data (`X_all`, `y_all`) into training and testing subsets.\n",
    "  - Use 300 training points (approximately 75%) and 95 testing points (approximately 25%).\n",
    "  - Set a `random_state` for the function(s) you use, if provided.\n",
    "  - Store the results in `X_train`, `X_test`, `y_train`, and `y_test`."
   ]
  },
  {
   "cell_type": "code",
   "execution_count": 162,
   "metadata": {
    "collapsed": false
   },
   "outputs": [
    {
     "name": "stdout",
     "output_type": "stream",
     "text": [
      "Training set has 300 samples.\n",
      "Testing set has 95 samples.\n"
     ]
    }
   ],
   "source": [
    "# Import any additional functionality you may need here\n",
    "from sklearn import cross_validation\n",
    "\n",
    "# Set the number of training points\n",
    "num_train = 300\n",
    "\n",
    "# Set the number of testing points\n",
    "num_test = X_all.shape[0] - num_train\n",
    "\n",
    "# TODO: Shuffle and split the dataset into the number of training and testing points above\n",
    "X_train, X_test, y_train, y_test = cross_validation.train_test_split(X_all, y_all, test_size=num_test, random_state=0)\n",
    "\n",
    "# Show the results of the split\n",
    "print \"Training set has {} samples.\".format(X_train.shape[0])\n",
    "print \"Testing set has {} samples.\".format(X_test.shape[0])"
   ]
  },
  {
   "cell_type": "markdown",
   "metadata": {},
   "source": [
    "## Training and Evaluating Models\n",
    "In this section, you will choose 3 supervised learning models that are appropriate for this problem and available in `scikit-learn`. You will first discuss the reasoning behind choosing these three models by considering what you know about the data and each model's strengths and weaknesses. You will then fit the model to varying sizes of training data (100 data points, 200 data points, and 300 data points) and measure the F<sub>1</sub> score. You will need to produce three tables (one for each model) that shows the training set size, training time, prediction time, F<sub>1</sub> score on the training set, and F<sub>1</sub> score on the testing set.\n",
    "\n",
    "**The following supervised learning models are currently available in** [`scikit-learn`](http://scikit-learn.org/stable/supervised_learning.html) **that you may choose from:**\n",
    "- Gaussian Naive Bayes (GaussianNB)\n",
    "- Decision Trees\n",
    "- Ensemble Methods (Bagging, AdaBoost, Random Forest, Gradient Boosting)\n",
    "- K-Nearest Neighbors (KNeighbors)\n",
    "- Stochastic Gradient Descent (SGDC)\n",
    "- Support Vector Machines (SVM)\n",
    "- Logistic Regression"
   ]
  },
  {
   "cell_type": "markdown",
   "metadata": {},
   "source": [
    "Classifiers: \n",
    "    - Gaussian Naive Bayes (GaussianNB)\n",
    "    - Decision Trees\n",
    "    - K-Nearest Neighbors (KNeighbors)\n",
    "    - Support Vector Machines (SVM)\n",
    "    - Logistic Regression\n",
    "    \n",
    "Stochastic Gradient Descent (SGDC): A possible learning technique variation on linear classifiers under convex loss functions such as (linear) Support Vector Machines and Logistic Regression.\n",
    "\n",
    "Ensemble Methods on classifiers: \n",
    "- Bagging: bagging methods form a class of algorithms which build several instances of a black-box estimator on random subsets of the original training set and then aggregate their individual predictions to form a final prediction. These methods are used as a way to reduce the variance of a base estimator (e.g., a decision tree), by introducing randomization into its construction procedure and then making an ensemble out of it. Bagging methods come in many flavours but mostly differ from each other by the way they draw random subsets of the training set.\n",
    "- Random Forest: A random forest is a meta estimator that fits a number of decision tree classifiers on various sub-samples of the dataset and use averaging to improve the predictive accuracy and control over-fitting.\n",
    "\n",
    "\n",
    "- Boosting: base estimators are built sequentially and one tries to reduce the bias of the combined estimator. The motivation is to combine several weak models to produce a powerful ensemble.\n",
    "\n",
    "- AdaBoost: \n",
    "- Gradient Boosting: \n"
   ]
  },
  {
   "cell_type": "markdown",
   "metadata": {},
   "source": [
    "### Question 2 - Model Application\n",
    "*List three supervised learning models that are appropriate for this problem. For each model chosen*\n",
    "- Describe one real-world application in industry where the model can be applied. *(You may need to do a small bit of research for this — give references!)* \n",
    "- What are the strengths of the model; when does it perform well? \n",
    "- What are the weaknesses of the model; when does it perform poorly?\n",
    "- What makes this model a good candidate for the problem, given what you know about the data?"
   ]
  },
  {
   "cell_type": "markdown",
   "metadata": {},
   "source": [
    "**Answer: **\n",
    "Gaussian Naive Bayes (GaussianNB)\n",
    "\n",
    "Decision Trees\n",
    "Ensemble Methods (Bagging, AdaBoost, Random Forest, Gradient Boosting)\n",
    "K-Nearest Neighbors (KNeighbors)\n",
    "Stochastic Gradient Descent (SGDC)\n",
    "Support Vector Machines (SVM)\n",
    "Logistic Regression"
   ]
  },
  {
   "cell_type": "markdown",
   "metadata": {},
   "source": [
    "### Setup\n",
    "Run the code cell below to initialize three helper functions which you can use for training and testing the three supervised learning models you've chosen above. The functions are as follows:\n",
    "- `train_classifier` - takes as input a classifier and training data and fits the classifier to the data.\n",
    "- `predict_labels` - takes as input a fit classifier, features, and a target labeling and makes predictions using the F<sub>1</sub> score.\n",
    "- `train_predict` - takes as input a classifier, and the training and testing data, and performs `train_clasifier` and `predict_labels`.\n",
    " - This function will report the F<sub>1</sub> score for both the training and testing data separately."
   ]
  },
  {
   "cell_type": "code",
   "execution_count": 163,
   "metadata": {
    "collapsed": false
   },
   "outputs": [],
   "source": [
    "def train_classifier(clf, X_train, y_train):\n",
    "    ''' Fits a classifier to the training data. '''\n",
    "    \n",
    "    # Start the clock, train the classifier, then stop the clock\n",
    "    start = time()\n",
    "    clf.fit(X_train, y_train)\n",
    "    end = time()\n",
    "    \n",
    "    # Print the results\n",
    "    #print \"Trained model in {:.4f} seconds\".format(end - start)\n",
    "\n",
    "    \n",
    "def predict_labels(clf, features, target):\n",
    "    ''' Makes predictions using a fit classifier based on F1 score. '''\n",
    "    \n",
    "    # Start the clock, make predictions, then stop the clock\n",
    "    start = time()\n",
    "    y_pred = clf.predict(features)\n",
    "    end = time()\n",
    "    \n",
    "    # Print and return results\n",
    "    #print \"Made predictions in {:.4f} seconds.\".format(end - start)\n",
    "    return f1_score(target.values, y_pred, pos_label='yes')\n",
    "\n",
    "\n",
    "def train_predict(clf, X_train, y_train, X_test, y_test):\n",
    "    ''' Train and predict using a classifer based on F1 score. '''\n",
    "    \n",
    "    # Indicate the classifier and the training set size\n",
    "    #print \"Training a {} using a training set size of {}. . .\".format(clf.__class__.__name__, len(X_train))\n",
    "    \n",
    "    # Train the classifier\n",
    "    train_classifier(clf, X_train, y_train)\n",
    "    \n",
    "    # Print the results of prediction for both training and testing\n",
    "    train_acc = predict_labels(clf, X_train, y_train)\n",
    "    #print \"F1 score for training set: {:.4f}.\".format(train_acc)\n",
    "    test_acc = predict_labels(clf, X_test, y_test)\n",
    "    #print \"F1 score for test set: {:.4f}.\".format(test_acc)\n",
    "    return train_acc,test_acc"
   ]
  },
  {
   "cell_type": "markdown",
   "metadata": {},
   "source": [
    "### Implementation: Model Performance Metrics\n",
    "With the predefined functions above, you will now import the three supervised learning models of your choice and run the `train_predict` function for each one. Remember that you will need to train and predict on each classifier for three different training set sizes: 100, 200, and 300. Hence, you should expect to have 9 different outputs below — 3 for each model using the varying training set sizes. In the following code cell, you will need to implement the following:\n",
    "- Import the three supervised learning models you've discussed in the previous section.\n",
    "- Initialize the three models and store them in `clf_A`, `clf_B`, and `clf_C`.\n",
    " - Use a `random_state` for each model you use, if provided.\n",
    " - **Note:** Use the default settings for each model — you will tune one specific model in a later section.\n",
    "- Create the different training set sizes to be used to train each model.\n",
    " - *Do not reshuffle and resplit the data! The new training points should be drawn from `X_train` and `y_train`.*\n",
    "- Fit each model with each training set size and make predictions on the test set (9 in total).  \n",
    "**Note:** Three tables are provided after the following code cell which can be used to store your results."
   ]
  },
  {
   "cell_type": "code",
   "execution_count": 164,
   "metadata": {
    "collapsed": false
   },
   "outputs": [
    {
     "name": "stdout",
     "output_type": "stream",
     "text": [
      "     school_GP  school_MS  sex_F  sex_M  age  address_R  address_U  \\\n",
      "63           1          0      1      0   16          0          1   \n",
      "245          1          0      0      1   16          0          1   \n",
      "154          1          0      1      0   17          0          1   \n",
      "311          1          0      1      0   19          0          1   \n",
      "81           1          0      0      1   15          0          1   \n",
      "344          1          0      1      0   18          0          1   \n",
      "336          1          0      1      0   19          1          0   \n",
      "124          1          0      1      0   16          0          1   \n",
      "250          1          0      0      1   18          0          1   \n",
      "89           1          0      0      1   16          0          1   \n",
      "181          1          0      0      1   16          0          1   \n",
      "21           1          0      0      1   15          0          1   \n",
      "170          1          0      0      1   16          0          1   \n",
      "206          1          0      1      0   16          0          1   \n",
      "173          1          0      1      0   16          0          1   \n",
      "49           1          0      1      0   15          0          1   \n",
      "358          0          1      0      1   18          0          1   \n",
      "196          1          0      0      1   17          0          1   \n",
      "92           1          0      1      0   16          0          1   \n",
      "221          1          0      1      0   17          0          1   \n",
      "218          1          0      1      0   17          0          1   \n",
      "355          0          1      1      0   18          0          1   \n",
      "134          1          0      0      1   15          1          0   \n",
      "175          1          0      0      1   17          0          1   \n",
      "22           1          0      0      1   16          0          1   \n",
      "241          1          0      0      1   17          1          0   \n",
      "122          1          0      1      0   16          0          1   \n",
      "176          1          0      1      0   16          0          1   \n",
      "162          1          0      0      1   16          0          1   \n",
      "145          1          0      1      0   15          0          1   \n",
      "..         ...        ...    ...    ...  ...        ...        ...   \n",
      "184          1          0      1      0   16          0          1   \n",
      "297          1          0      1      0   18          0          1   \n",
      "374          0          1      1      0   18          1          0   \n",
      "341          1          0      0      1   18          0          1   \n",
      "182          1          0      1      0   17          0          1   \n",
      "351          0          1      0      1   17          0          1   \n",
      "80           1          0      0      1   15          0          1   \n",
      "258          1          0      0      1   18          0          1   \n",
      "11           1          0      1      0   15          0          1   \n",
      "294          1          0      0      1   18          1          0   \n",
      "86           1          0      1      0   16          0          1   \n",
      "266          1          0      0      1   17          0          1   \n",
      "36           1          0      0      1   15          0          1   \n",
      "377          0          1      1      0   18          1          0   \n",
      "58           1          0      0      1   15          0          1   \n",
      "41           1          0      0      1   15          0          1   \n",
      "270          1          0      1      0   19          0          1   \n",
      "50           1          0      1      0   16          0          1   \n",
      "209          1          0      1      0   17          1          0   \n",
      "313          1          0      1      0   19          0          1   \n",
      "312          1          0      0      1   19          0          1   \n",
      "326          1          0      0      1   17          0          1   \n",
      "123          1          0      0      1   16          0          1   \n",
      "222          1          0      1      0   16          0          1   \n",
      "62           1          0      1      0   16          0          1   \n",
      "298          1          0      1      0   18          0          1   \n",
      "130          1          0      1      0   15          1          0   \n",
      "187          1          0      0      1   16          0          1   \n",
      "23           1          0      0      1   16          0          1   \n",
      "43           1          0      0      1   15          0          1   \n",
      "\n",
      "     famsize_GT3  famsize_LE3  Pstatus_A    ...     higher  internet  \\\n",
      "63             1            0          0    ...          1         1   \n",
      "245            1            0          0    ...          1         1   \n",
      "154            1            0          0    ...          1         0   \n",
      "311            1            0          0    ...          0         1   \n",
      "81             1            0          0    ...          1         1   \n",
      "344            1            0          0    ...          1         1   \n",
      "336            1            0          1    ...          1         0   \n",
      "124            1            0          0    ...          1         1   \n",
      "250            1            0          0    ...          0         1   \n",
      "89             0            1          1    ...          1         0   \n",
      "181            1            0          0    ...          1         1   \n",
      "21             1            0          0    ...          1         1   \n",
      "170            1            0          0    ...          1         1   \n",
      "206            1            0          1    ...          1         1   \n",
      "173            1            0          0    ...          1         1   \n",
      "49             1            0          0    ...          1         1   \n",
      "358            0            1          0    ...          1         1   \n",
      "196            1            0          0    ...          1         1   \n",
      "92             0            1          0    ...          1         0   \n",
      "221            1            0          0    ...          1         0   \n",
      "218            1            0          0    ...          1         0   \n",
      "355            1            0          0    ...          1         0   \n",
      "134            1            0          0    ...          1         0   \n",
      "175            0            1          0    ...          1         1   \n",
      "22             0            1          0    ...          1         1   \n",
      "241            0            1          1    ...          1         1   \n",
      "122            0            1          0    ...          1         1   \n",
      "176            1            0          0    ...          1         1   \n",
      "162            0            1          0    ...          1         0   \n",
      "145            1            0          0    ...          1         1   \n",
      "..           ...          ...        ...    ...        ...       ...   \n",
      "184            1            0          0    ...          1         1   \n",
      "297            0            1          0    ...          1         1   \n",
      "374            0            1          0    ...          1         1   \n",
      "341            1            0          0    ...          1         1   \n",
      "182            1            0          0    ...          1         0   \n",
      "351            1            0          0    ...          1         1   \n",
      "80             1            0          0    ...          1         1   \n",
      "258            1            0          0    ...          1         1   \n",
      "11             1            0          0    ...          1         1   \n",
      "294            0            1          0    ...          1         1   \n",
      "86             0            1          0    ...          1         0   \n",
      "266            1            0          0    ...          1         1   \n",
      "36             0            1          0    ...          1         1   \n",
      "377            0            1          0    ...          1         1   \n",
      "58             0            1          0    ...          1         1   \n",
      "41             0            1          0    ...          1         1   \n",
      "270            1            0          0    ...          1         1   \n",
      "50             0            1          0    ...          1         1   \n",
      "209            1            0          0    ...          1         1   \n",
      "313            0            1          0    ...          1         1   \n",
      "312            1            0          0    ...          1         1   \n",
      "326            1            0          0    ...          1         1   \n",
      "123            1            0          0    ...          1         1   \n",
      "222            1            0          0    ...          1         1   \n",
      "62             0            1          0    ...          1         1   \n",
      "298            1            0          0    ...          1         1   \n",
      "130            1            0          0    ...          1         1   \n",
      "187            0            1          0    ...          1         1   \n",
      "23             0            1          0    ...          1         1   \n",
      "43             1            0          0    ...          1         1   \n",
      "\n",
      "     romantic  famrel  freetime  goout  Dalc  Walc  health  absences  \n",
      "63          0       3         4      4     2     4       4         2  \n",
      "245         0       4         3      3     1     1       4         6  \n",
      "154         1       4         2      1     1     1       4         0  \n",
      "311         1       3         4      1     1     1       2        20  \n",
      "81          0       5         3      2     1     2       5         4  \n",
      "344         0       4         3      3     1     2       3         4  \n",
      "336         0       5         4      3     1     2       5        12  \n",
      "124         1       5         4      4     1     1       5         0  \n",
      "250         0       4         4      5     2     4       5         0  \n",
      "89          0       4         1      3     3     5       5        18  \n",
      "181         1       4         2      3     1     2       3         2  \n",
      "21          0       5         4      2     1     1       5         0  \n",
      "170         0       3         4      5     2     4       2         0  \n",
      "206         0       2         3      3     2     2       4         5  \n",
      "173         1       4         3      5     1     1       3         0  \n",
      "49          0       4         4      4     1     1       3         2  \n",
      "358         1       3         3      2     1     2       3         4  \n",
      "196         0       5         2      3     1     2       5         4  \n",
      "92          0       3         3      3     2     3       2         4  \n",
      "221         1       4         3      4     1     1       5         0  \n",
      "218         0       3         3      3     1     4       3         3  \n",
      "355         1       5         3      4     1     1       5         0  \n",
      "134         1       5         3      3     1     1       5         0  \n",
      "175         0       4         4      4     4     4       4         4  \n",
      "22          0       4         5      1     1     3       5         2  \n",
      "241         0       3         3      3     2     3       4         2  \n",
      "122         1       4         2      2     1     2       5         2  \n",
      "176         0       3         4      4     1     4       5         2  \n",
      "162         0       4         4      4     2     4       5         0  \n",
      "145         0       4         4      2     1     2       5         0  \n",
      "..        ...     ...       ...    ...   ...   ...     ...       ...  \n",
      "184         0       1         2      2     1     2       1        14  \n",
      "297         1       4         4      5     1     2       2        10  \n",
      "374         0       5         4      4     1     1       1         0  \n",
      "341         0       4         3      3     2     2       2         0  \n",
      "182         0       5         4      2     2     3       5         0  \n",
      "351         0       4         5      4     2     3       3         2  \n",
      "80          1       3         2      2     1     3       3         2  \n",
      "258         0       5         2      4     1     2       4         8  \n",
      "11          0       5         2      2     1     1       4         4  \n",
      "294         0       5         4      2     1     1       4         8  \n",
      "86          0       4         3      4     1     2       2         4  \n",
      "266         1       5         4      4     3     4       5         2  \n",
      "36          0       5         4      3     1     1       4         2  \n",
      "377         0       5         4      3     3     4       2         4  \n",
      "58          0       4         3      2     1     1       5         2  \n",
      "41          1       5         4      3     2     4       5         8  \n",
      "270         0       4         3      5     3     3       5        15  \n",
      "50          0       4         3      3     2     3       4         2  \n",
      "209         1       4         4      2     1     1       4         6  \n",
      "313         1       4         2      2     1     2       1        22  \n",
      "312         0       4         5      2     2     2       4         3  \n",
      "326         0       4         3      5     3     5       5         3  \n",
      "123         0       3         4      4     1     4       5        18  \n",
      "222         0       2         3      1     1     1       3         2  \n",
      "62          0       4         4      3     1     1       1         4  \n",
      "298         0       4         3      3     1     1       3         0  \n",
      "130         1       4         2      2     2     2       5         0  \n",
      "187         1       4         2      3     1     2       5         0  \n",
      "23          0       5         4      4     2     4       5         0  \n",
      "43          0       5         4      1     1     1       1         0  \n",
      "\n",
      "[200 rows x 48 columns]\n"
     ]
    }
   ],
   "source": [
    "print X_train[0:200]"
   ]
  },
  {
   "cell_type": "code",
   "execution_count": 165,
   "metadata": {
    "collapsed": true
   },
   "outputs": [],
   "source": [
    "%matplotlib inline\n",
    "import matplotlib\n",
    "import matplotlib.pyplot as plt"
   ]
  },
  {
   "cell_type": "code",
   "execution_count": 166,
   "metadata": {
    "collapsed": false
   },
   "outputs": [
    {
     "data": {
      "text/plain": [
       "(0, 1)"
      ]
     },
     "execution_count": 166,
     "metadata": {},
     "output_type": "execute_result"
    },
    {
     "data": {
      "image/png": "[encoded data removed]",
      "text/plain": [
       "<matplotlib.figure.Figure at 0x116e3d850>"
      ]
     },
     "metadata": {},
     "output_type": "display_data"
    }
   ],
   "source": [
    "#plt.plot([1,2], [3,4])\n",
    "plt.plot([100, 200, 300], [0.7, 0.8, 0.9], label=\"clf\")\n",
    "plt.xlabel(\"X value\")\n",
    "plt.ylabel(\"Y value\")\n",
    "plt.title(\"My graph\")\n",
    "plt.xlim(100,300)\n",
    "plt.ylim(0,1)"
   ]
  },
  {
   "cell_type": "code",
   "execution_count": 167,
   "metadata": {
    "collapsed": false
   },
   "outputs": [],
   "source": [
    "from sklearn import naive_bayes\n"
   ]
  },
  {
   "cell_type": "code",
   "execution_count": 168,
   "metadata": {
    "collapsed": false
   },
   "outputs": [
    {
     "data": {
      "text/plain": [
       "'abss'"
      ]
     },
     "execution_count": 168,
     "metadata": {},
     "output_type": "execute_result"
    }
   ],
   "source": [
    "s = \"abss(a:,a:)\"\n",
    "s.split(\"(\")[0]"
   ]
  },
  {
   "cell_type": "markdown",
   "metadata": {},
   "source": [
    "## Parametric\n",
    "1. Logistic Regression \n",
    "\n",
    "## Non-parametric \n",
    "1. Decision Trees \n",
    "2. K-nearest neighbors"
   ]
  },
  {
   "cell_type": "code",
   "execution_count": 169,
   "metadata": {
    "collapsed": true
   },
   "outputs": [],
   "source": [
    "def performance_metric(y_true, y_predict):\n",
    "    ''' Makes predictions using a fit classifier based on F1 score. '''\n",
    "    \n",
    "    # Print and return results\n",
    "    #print \"Made predictions in {:.4f} seconds.\".format(end - start)\n",
    "    return f1_score(y_true=y_true, y_pred=y_predict, pos_label='yes')\n"
   ]
  },
  {
   "cell_type": "code",
   "execution_count": 170,
   "metadata": {
    "collapsed": true
   },
   "outputs": [],
   "source": [
    "from sklearn.metrics import make_scorer\n",
    "from sklearn.tree import DecisionTreeRegressor\n",
    "from sklearn.grid_search import GridSearchCV\n",
    "from sklearn.cross_validation import ShuffleSplit\n",
    "\n",
    "def fit_model(X, y, clf, params):\n",
    "    \"\"\" Performs grid search over the 'max_depth' parameter for a \n",
    "        decision tree regressor trained on the input data [X, y]. \"\"\"\n",
    "    \n",
    "    # Create cross-validation sets from the training data\n",
    "    cv_sets = ShuffleSplit(X.shape[0], n_iter = 10, test_size = 0.20, random_state = 0)\n",
    "\n",
    "    # Transform 'performance_metric' into a scoring function using 'make_scorer' \n",
    "    scoring_fnc = make_scorer(performance_metric)\n",
    "\n",
    "    # Create the grid search object\n",
    "    grid = GridSearchCV(estimator=clf, param_grid=params, scoring=scoring_fnc, cv=cv_sets)\n",
    "\n",
    "    # Fit the grid search object to the data to compute the optimal model\n",
    "    grid = grid.fit(X, y)\n",
    "\n",
    "    # Return the optimal model after fitting the data\n",
    "    return grid.best_estimator_"
   ]
  },
  {
   "cell_type": "markdown",
   "metadata": {},
   "source": [
    "# Gaussian Naive Bayes \n",
    "GaussianNB assumes conditional independence between features given class label. This may not be true in our case. For example weather student has access to internet might depend a lot on jobs of studen's parent. \n",
    "\n",
    "# Decision Tree: \n",
    "Decision Tree with depth 1 is not overfitting. The testing and training accuracy peak at 80%, which is not high. This makes think that we need a more complex model. We have to increase variance without overfitting. Boosting is an option we can explore. This also rules out RandomForestClassifier. \n",
    "\n",
    "# Bagging Classifier\n",
    "\n",
    "\n",
    "# RandomForestClassifier\n",
    "As we have seen that we need a model that is more complex(with higher variance) than a single Decision Tree. And, \n",
    "RandomForest is bagging based ensemble of decision trees that aims to decrese variance. We are not going to explore RandomForest yet. \n",
    "  If we had more data, we could explore increasing complexity of a single decision tree by tuning its parameters and then reducing the overfit by ensemble technique. \n",
    "  \n",
    "# Ada Boost: \n",
    "\n",
    "# Gradient Boost: \n",
    "\n",
    "\n",
    "\n"
   ]
  },
  {
   "cell_type": "code",
   "execution_count": 171,
   "metadata": {
    "collapsed": false
   },
   "outputs": [],
   "source": [
    "%matplotlib inline\n",
    "from sklearn.naive_bayes import GaussianNB\n",
    "from sklearn.tree import DecisionTreeClassifier\n",
    "from sklearn.ensemble import BaggingClassifier\n",
    "from sklearn.ensemble import AdaBoostClassifier\n",
    "from sklearn.ensemble import RandomForestClassifier\n",
    "from sklearn.ensemble import GradientBoostingClassifier\n",
    "from sklearn.neighbors import KNeighborsClassifier\n",
    "from sklearn.linear_model import SGDClassifier\n",
    "from sklearn.svm import SVC\n",
    "from sklearn.linear_model import LogisticRegression\n",
    "\n",
    "X_train_100 = X_train[0:100]\n",
    "y_train_100 = y_train[0:100]\n",
    "\n",
    "X_train_200 = X_train[0:200]\n",
    "y_train_200 = y_train[0:200]\n",
    "\n",
    "X_train_300 = X_train\n",
    "y_train_300 = y_train\n",
    "\n",
    "finalized_classifiers = []\n",
    "\n",
    "## Parametric \n",
    "# Gaussian Naive Bayes (GaussianNB)\n",
    "g_nb = GaussianNB()\n",
    "finalized_classifiers.append(g_nb)\n",
    "\n",
    "# Decision Trees\n",
    "tree = fit_model(X_train_300, y_train_300, \n",
    "                 DecisionTreeClassifier(random_state=0),\n",
    "                 {'max_depth':range(1, 11), 'min_samples_split':range(2, 11), 'criterion':['gini', 'entropy']})\n",
    "finalized_classifiers.append(tree)\n",
    "\n",
    "# AdaBoost\n",
    "ada = fit_model(X_train_300, y_train_300,\n",
    "                AdaBoostClassifier(),\n",
    "                {'n_estimators':range(1, 21) })\n",
    "finalized_classifiers.append(ada)\n",
    "\n",
    "# Random Forest\n",
    "random_forest = fit_model(X_train_300, y_train_300, \n",
    "                          RandomForestClassifier(random_state=0, max_depth=6, criterion='entropy'),\n",
    "                          {'n_estimators':range(2, 16), 'min_samples_split':range(2, 11)})\n",
    "finalized_classifiers.append(random_forest)\n",
    "\n",
    "# Gradient Boosting\n",
    "gradient = fit_model(X_train_300, y_train_300, \n",
    "                     GradientBoostingClassifier(max_depth=1),\n",
    "                     {'n_estimators':[100, 200, 300, 400, 500], 'learning_rate':[0.1, 0.4, 0.8]})\n",
    "finalized_classifiers.append(gradient)\n",
    "\n",
    "# K-Nearest Neighbors (KNeighbors)\n",
    "neigh = KNeighborsClassifier(weights='distance', n_neighbors=10)\n",
    "finalized_classifiers.append(neigh)\n"
   ]
  },
  {
   "cell_type": "code",
   "execution_count": 172,
   "metadata": {
    "collapsed": false
   },
   "outputs": [],
   "source": [
    "inprogress_classifiers = []\n",
    "\n",
    "# Support Vector Machines (SVM)\n",
    "svc = fit_model(X_train_300, y_train_300, \n",
    "                SVC(kernel='rbf'),\n",
    "                {'C':np.logspace(-2, 10, 13), 'gamma':np.logspace(-9, 3, 13)})\n",
    "inprogress_classifiers.append(svc)\n",
    "\n",
    "# Stochastic Gradient Descent (SGDC)\n",
    "sgdc = SGDClassifier(n_iter=10000)\n",
    "inprogress_classifiers.append(sgdc)\n",
    "\n",
    "# Logistic Regression\n",
    "# Is it really a classifier ? YES.\n",
    "l_reg = LogisticRegression()\n",
    "inprogress_classifiers.append(l_reg)\n",
    "\n",
    "# Bagging\n",
    "bag = fit_model(X_train_300, y_train_300, BaggingClassifier(base_estimator=neigh),\n",
    "                          {'n_estimators':[10, 20]}) \n",
    "inprogress_classifiers.append(bag)\n"
   ]
  },
  {
   "cell_type": "code",
   "execution_count": null,
   "metadata": {
    "collapsed": false
   },
   "outputs": [],
   "source": [
    "np.logspace(-2, 10, 13)\n",
    "np.logspace(-9, 3, 13)"
   ]
  },
  {
   "cell_type": "code",
   "execution_count": null,
   "metadata": {
    "collapsed": false
   },
   "outputs": [],
   "source": [
    "classifiers = finalized_classifiers + inprogress_classifiers\n",
    "for cl in classifiers:\n",
    "    print cl"
   ]
  },
  {
   "cell_type": "code",
   "execution_count": null,
   "metadata": {
    "collapsed": false
   },
   "outputs": [],
   "source": [
    "import sklearn.tree as t\n",
    "from sklearn.externals.six import StringIO\n",
    "import pydotplus\n",
    "from IPython.display import Image\n",
    "dot_data = StringIO()\n",
    "t.export_graphviz(tree,  out_file=dot_data, feature_names=list(X_all.columns), class_names=['failed', 'passed'])\n",
    "graph = pydotplus.graph_from_dot_data(dot_data.getvalue())\n",
    "Image(graph.create_png())"
   ]
  },
  {
   "cell_type": "code",
   "execution_count": null,
   "metadata": {
    "collapsed": true
   },
   "outputs": [],
   "source": [
    "def run_and_plot():\n",
    "    fig = plt.figure(figsize=(20,20))\n",
    "    for index, clf in enumerate(classifiers):\n",
    "        tr_acc_100,test_acc_100 = train_predict(clf, X_train_100, y_train_100, X_test, y_test)\n",
    "        tr_acc_200,test_acc_200 = train_predict(clf, X_train_200, y_train_200, X_test, y_test)\n",
    "        tr_acc_300,test_acc_300 = train_predict(clf, X_train_300, y_train_300, X_test, y_test)\n",
    "        clf_label = (str(clf)).split(\"(\")[0]\n",
    "        print clf_label, test_acc_300, test_acc_200\n",
    "        ax = fig.add_subplot((len(classifiers)/3)+1, 3,  index+1)\n",
    "        ax.plot([100, 200, 300], [tr_acc_100, tr_acc_200, tr_acc_300], label=\"Training Acc of \" + clf_label)\n",
    "        ax.plot([100, 200, 300], [test_acc_100, test_acc_200, test_acc_300], label=\"Testing Acc of \" + clf_label)\n",
    "        ax.legend(loc=0)\n",
    "        ax.set_ylim([-0.05, 1.05])\n",
    "        ax.set_xlim([100, 300])"
   ]
  },
  {
   "cell_type": "code",
   "execution_count": null,
   "metadata": {
    "collapsed": false
   },
   "outputs": [],
   "source": [
    "run_and_plot()"
   ]
  },
  {
   "cell_type": "code",
   "execution_count": null,
   "metadata": {
    "collapsed": false
   },
   "outputs": [],
   "source": [
    "run_and_plot()"
   ]
  },
  {
   "cell_type": "code",
   "execution_count": null,
   "metadata": {
    "collapsed": false
   },
   "outputs": [],
   "source": [
    "run_and_plot()"
   ]
  },
  {
   "cell_type": "code",
   "execution_count": null,
   "metadata": {
    "collapsed": false
   },
   "outputs": [],
   "source": [
    "# TODO: Import the three supervised learning models from sklearn\n",
    "# from sklearn import model_A\n",
    "# from sklearn import model_B\n",
    "# from sklearn import model_C\n",
    "\n",
    "# TODO: Initialize the three models\n",
    "clf_A = None\n",
    "clf_B = None\n",
    "clf_C = None\n",
    "\n",
    "# TODO: Set up the training set sizes\n",
    "X_train_100 = None\n",
    "y_train_100 = None\n",
    "\n",
    "X_train_200 = None\n",
    "y_train_200 = None\n",
    "\n",
    "X_train_300 = None\n",
    "y_train_300 = None\n",
    "\n",
    "# TODO: Execute the 'train_predict' function for each classifier and each training set size\n",
    "# train_predict(clf, X_train, y_train, X_test, y_test)"
   ]
  },
  {
   "cell_type": "markdown",
   "metadata": {},
   "source": [
    "### Tabular Results\n",
    "Edit the cell below to see how a table can be designed in [Markdown](https://github.com/adam-p/markdown-here/wiki/Markdown-Cheatsheet#tables). You can record your results from above in the tables provided."
   ]
  },
  {
   "cell_type": "markdown",
   "metadata": {},
   "source": [
    "** Classifer 1 - ?**  \n",
    "\n",
    "| Training Set Size | Training Time | Prediction Time (test) | F1 Score (train) | F1 Score (test) |\n",
    "| :---------------: | :---------------------: | :--------------------: | :--------------: | :-------------: |\n",
    "| 100               |                         |                        |                  |                 |\n",
    "| 200               |        EXAMPLE          |                        |                  |                 |\n",
    "| 300               |                         |                        |                  |    EXAMPLE      |\n",
    "\n",
    "** Classifer 2 - ?**  \n",
    "\n",
    "| Training Set Size | Training Time | Prediction Time (test) | F1 Score (train) | F1 Score (test) |\n",
    "| :---------------: | :---------------------: | :--------------------: | :--------------: | :-------------: |\n",
    "| 100               |                         |                        |                  |                 |\n",
    "| 200               |     EXAMPLE             |                        |                  |                 |\n",
    "| 300               |                         |                        |                  |     EXAMPLE     |\n",
    "\n",
    "** Classifer 3 - ?**  \n",
    "\n",
    "| Training Set Size | Training Time | Prediction Time (test) | F1 Score (train) | F1 Score (test) |\n",
    "| :---------------: | :---------------------: | :--------------------: | :--------------: | :-------------: |\n",
    "| 100               |                         |                        |                  |                 |\n",
    "| 200               |                         |                        |                  |                 |\n",
    "| 300               |                         |                        |                  |                 |"
   ]
  },
  {
   "cell_type": "markdown",
   "metadata": {},
   "source": [
    "## Choosing the Best Model\n",
    "In this final section, you will choose from the three supervised learning models the *best* model to use on the student data. You will then perform a grid search optimization for the model over the entire training set (`X_train` and `y_train`) by tuning at least one parameter to improve upon the untuned model's F<sub>1</sub> score. "
   ]
  },
  {
   "cell_type": "markdown",
   "metadata": {},
   "source": [
    "### Question 3 - Choosing the Best Model\n",
    "*Based on the experiments you performed earlier, in one to two paragraphs, explain to the board of supervisors what single model you chose as the best model. Which model is generally the most appropriate based on the available data, limited resources, cost, and performance?*"
   ]
  },
  {
   "cell_type": "markdown",
   "metadata": {},
   "source": [
    "**Answer: **"
   ]
  },
  {
   "cell_type": "markdown",
   "metadata": {},
   "source": [
    "### Question 4 - Model in Layman's Terms\n",
    "*In one to two paragraphs, explain to the board of directors in layman's terms how the final model chosen is supposed to work. Be sure that you are describing the major qualities of the model, such as how the model is trained and how the model makes a prediction. Avoid using advanced mathematical or technical jargon, such as describing equations or discussing the algorithm implementation.*"
   ]
  },
  {
   "cell_type": "markdown",
   "metadata": {},
   "source": [
    "**Answer: **"
   ]
  },
  {
   "cell_type": "markdown",
   "metadata": {},
   "source": [
    "### Implementation: Model Tuning\n",
    "Fine tune the chosen model. Use grid search (`GridSearchCV`) with at least one important parameter tuned with at least 3 different values. You will need to use the entire training set for this. In the code cell below, you will need to implement the following:\n",
    "- Import [`sklearn.grid_search.GridSearchCV`](http://scikit-learn.org/0.17/modules/generated/sklearn.grid_search.GridSearchCV.html) and [`sklearn.metrics.make_scorer`](http://scikit-learn.org/stable/modules/generated/sklearn.metrics.make_scorer.html).\n",
    "- Create a dictionary of parameters you wish to tune for the chosen model.\n",
    " - Example: `parameters = {'parameter' : [list of values]}`.\n",
    "- Initialize the classifier you've chosen and store it in `clf`.\n",
    "- Create the F<sub>1</sub> scoring function using `make_scorer` and store it in `f1_scorer`.\n",
    " - Set the `pos_label` parameter to the correct value!\n",
    "- Perform grid search on the classifier `clf` using `f1_scorer` as the scoring method, and store it in `grid_obj`.\n",
    "- Fit the grid search object to the training data (`X_train`, `y_train`), and store it in `grid_obj`."
   ]
  },
  {
   "cell_type": "code",
   "execution_count": null,
   "metadata": {
    "collapsed": false
   },
   "outputs": [],
   "source": [
    "# TODO: Import 'GridSearchCV' and 'make_scorer'\n",
    "\n",
    "# TODO: Create the parameters list you wish to tune\n",
    "parameters = None\n",
    "\n",
    "# TODO: Initialize the classifier\n",
    "clf = None\n",
    "\n",
    "# TODO: Make an f1 scoring function using 'make_scorer' \n",
    "f1_scorer = None\n",
    "\n",
    "# TODO: Perform grid search on the classifier using the f1_scorer as the scoring method\n",
    "grid_obj = None\n",
    "\n",
    "# TODO: Fit the grid search object to the training data and find the optimal parameters\n",
    "grid_obj = None\n",
    "\n",
    "# Get the estimator\n",
    "clf = grid_obj.best_estimator_\n",
    "\n",
    "# Report the final F1 score for training and testing after parameter tuning\n",
    "print \"Tuned model has a training F1 score of {:.4f}.\".format(predict_labels(clf, X_train, y_train))\n",
    "print \"Tuned model has a testing F1 score of {:.4f}.\".format(predict_labels(clf, X_test, y_test))"
   ]
  },
  {
   "cell_type": "markdown",
   "metadata": {},
   "source": [
    "### Question 5 - Final F<sub>1</sub> Score\n",
    "*What is the final model's F<sub>1</sub> score for training and testing? How does that score compare to the untuned model?*"
   ]
  },
  {
   "cell_type": "markdown",
   "metadata": {},
   "source": [
    "**Answer: **"
   ]
  },
  {
   "cell_type": "markdown",
   "metadata": {},
   "source": [
    "> **Note**: Once you have completed all of the code implementations and successfully answered each question above, you may finalize your work by exporting the iPython Notebook as an HTML document. You can do this by using the menu above and navigating to  \n",
    "**File -> Download as -> HTML (.html)**. Include the finished document along with this notebook as your submission."
   ]
  },
  {
   "cell_type": "code",
   "execution_count": null,
   "metadata": {
    "collapsed": true
   },
   "outputs": [],
   "source": []
  }
 ],
 "metadata": {
  "anaconda-cloud": {},
  "kernelspec": {
   "display_name": "Python [default]",
   "language": "python",
   "name": "python2"
  },
  "language_info": {
   "codemirror_mode": {
    "name": "ipython",
    "version": 2
   },
   "file_extension": ".py",
   "mimetype": "text/x-python",
   "name": "python",
   "nbconvert_exporter": "python",
   "pygments_lexer": "ipython2",
   "version": "2.7.12"
  }
 },
 "nbformat": 4,
 "nbformat_minor": 0
}
